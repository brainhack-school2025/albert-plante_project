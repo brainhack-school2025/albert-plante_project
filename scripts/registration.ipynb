{
 "cells": [
  {
   "cell_type": "markdown",
   "id": "dce19310",
   "metadata": {},
   "source": [
    "# Bash environment variables "
   ]
  },
  {
   "cell_type": "code",
   "execution_count": null,
   "id": "7cc0a00d",
   "metadata": {},
   "outputs": [],
   "source": [
    "%%bash\n",
    "cat <<EOF > env.sh\n",
    "# =============================\n",
    "# BIDS environment setup\n",
    "# =============================\n",
    "\n",
    "export PROJECT_ROOT=\"/mnt/c/Users/hapla/Documents/GitHub/albert-plante_project\"\n",
    "export BIDS_ROOT=\"\\${PROJECT_ROOT}/data\"\n",
    "export SUBJECT=\"0204\"\n",
    "\n",
    "# =============================\n",
    "# Derived and temp directories\n",
    "# =============================\n",
    "\n",
    "export WORKDIR=\"\\${BIDS_ROOT}/derivatives/tmp_\\${SUBJECT}\"\n",
    "export RESULTSDIR=\"\\${PROJECT_ROOT}/results/results_\\${SUBJECT}\"\n",
    "export TEMPLATE_DIR=\"\\${BIDS_ROOT}/derivatives/templates\"\n",
    "\n",
    "\n",
    "# =============================\n",
    "# Input images\n",
    "# =============================\n",
    "\n",
    "export MP2RAGE=\"\\${BIDS_ROOT}/sub-\\${SUBJECT}/anat/sub-\\${SUBJECT}_T1w.nii.gz\"\n",
    "export DWI=\"\\${BIDS_ROOT}/sub-\\${SUBJECT}/dwi/sub-\\${SUBJECT}_dwi.nii.gz\"\n",
    "export rDWI=\"\\${BIDS_ROOT}/derivatives/registered_dwi/sub-\\${SUBJECT}/dwi/sub-\\${SUBJECT}_dwi.nii.gz\"\n",
    "export T1_MAP=\"\\${BIDS_ROOT}/derivatives/t1_map/sub-\\${SUBJECT}/sub-\\${SUBJECT}_t1_map.nii.gz\"\n",
    "export SEG_DWI=\"\\${BIDS_ROOT}/derivatives/optic_nerve_segmentations/sub-\\${SUBJECT}/dwi/sub-\\${SUBJECT}_label-ON_seg.nii.gz\"\n",
    "export SEG_MP2RAGE=\"\\${BIDS_ROOT}/derivatives/optic_nerve_segmentations/sub-\\${SUBJECT}/anat/sub-\\${SUBJECT}_label-ON_seg.nii.gz\"\n",
    "export FA_MAP=\"\\${BIDS_ROOT}/derivatives/fa_map/sub-\\${SUBJECT}/sub-\\${SUBJECT}_scanner_FA.nii.gz\"\n",
    "\n",
    "\n",
    "# =============================\n",
    "# Templates / Atlases\n",
    "# =============================\n",
    "\n",
    "export MNI=\"\\${TEMPLATE_DIR}/MNI152_T1_1mm.nii.gz\"\n",
    "export ATLAS=\"\\${TEMPLATE_DIR}/Atlas_MNI.nii.gz\"\n",
    "export MNI_LABEL=\"\\${TEMPLATE_DIR}/Optic_Nerve_Label_MNI.gz\"\n",
    "\n",
    "# =============================\n",
    "# Registered outputs (generated)\n",
    "# =============================\n",
    "\n",
    "export DWI_TO_MP2RAGE=\"\\${WORKDIR}/dwi2mp2rage\"\n",
    "export MP2RAGE_TO_MNI=\"\\${WORKDIR}/mp2rage2mni\"\n",
    "export DWI_MNI=\"\\${WORKDIR}/dwi_mni.nii.gz\"\n",
    "export SEG_DWI_TO_MP2RAGE=\"\\${WORKDIR}/seg_dwi_to_mp2rage.nii.gz\"\n",
    "export SEG_DWI_TO_MNI=\"\\${WORKDIR}/seg_dwi_to_mni.nii.gz\"\n",
    "export SEG_MP2RAGE_TO_MNI=\"\\${WORKDIR}/seg_mp2rage_to_mni.nii.gz\"\n",
    "export T1_MAP_TO_MNI=\"\\${WORKDIR}/t1_map_to_mni.nii.gz\"\n",
    "export MP2RAGE_MNI_ROI=\"\\${WORKDIR}/mp2rage_mni_roi.nii.gz\"\n",
    "export DWI_MNI_ROI=\"\\${WORKDIR}/dwi_mni_roi.nii.gz\"\n",
    "export CORRECTED_DWI=\"\\${WORKDIR}/dwi_mni_corrected.nii.gz\"\n",
    "export FINAL_SEG_DWI=\"\\${WORKDIR}/seg_dwi_mni_corrected.nii.gz\"\n",
    "export FA_TO_MP2RAGE=\"\\${WORKDIR}/fa2mp2rage.nii.gz\"\n",
    "export FA_TO_MNI=\"\\${WORKDIR}/fa2mni.nii.gz\"\n",
    "export CORRECTED_FA=\"\\${WORKDIR}/fa2mni_corrected.nii.gz\"\n",
    "\n",
    "# =============================\n",
    "# Results outputs (generated)\n",
    "# =============================\n",
    "\n",
    "export MP2RAGE_MNI=\"\\${RESULTSDIR}/mp2rage_mni.nii.gz\"\n",
    "export DWI_MNI=\"\\${RESULTSDIR}/dwi_mni.nii.gz\"\n",
    "export SEG_MP2RAGE_MNI=\"\\${RESULTSDIR}/seg_mp2rage_mni.nii.gz\"\n",
    "export SEG_DWI_MNI=\"\\${RESULTSDIR}/seg_dwi_mni.nii.gz\"\n",
    "export T1_MAP_MNI=\"\\${RESULTSDIR}/t1_map_mni.nii.gz\"\n",
    "export FA_MAP_MNI=\"\\${RESULTSDIR}/fa_map_mni.nii.gz\"\n",
    "EOF\n",
    "\n",
    "source ./env.sh\n",
    "mkdir -p \"$WORKDIR\"\n",
    "mkdir -p \"$RESULTSDIR\""
   ]
  },
  {
   "cell_type": "markdown",
   "id": "48c9a4f8",
   "metadata": {},
   "source": [
    "# Image Registration"
   ]
  },
  {
   "cell_type": "markdown",
   "id": "85f1f25f",
   "metadata": {},
   "source": [
    "**Diffusion b0 image to MP2RAGE (Rigid Registration)**\n",
    "\n",
    "Because DWI are normally slabs rather than full brain image, the next registration may not always work reliably. Visually check the output, and if it's offset, rerun the registration."
   ]
  },
  {
   "cell_type": "code",
   "execution_count": null,
   "id": "f981600b",
   "metadata": {},
   "outputs": [],
   "source": [
    "%%bash\n",
    "source env.sh\n",
    "export PATH=$HOME/ants/bin:$PATH\n",
    "\n",
    "# DWI to MP2RAGE\n",
    "antsRegistrationSyN.sh \\\n",
    "  -d 3 -t r \\\n",
    "  -f \"$MP2RAGE\" \\\n",
    "  -m \"$rDWI\" \\\n",
    "  -o \"$DWI_TO_MP2RAGE\""
   ]
  },
  {
   "cell_type": "markdown",
   "id": "691c7983",
   "metadata": {},
   "source": [
    "**MP2RAGE to MNI 152 (Affine Registration)**"
   ]
  },
  {
   "cell_type": "code",
   "execution_count": null,
   "id": "7ab987c5",
   "metadata": {},
   "outputs": [],
   "source": [
    "%%bash\n",
    "source env.sh\n",
    "export PATH=$HOME/ants/bin:$PATH\n",
    "\n",
    "# MP2RAGE to MNI \n",
    "antsRegistrationSyN.sh \\\n",
    "  -d 3 -t a \\\n",
    "  -f \"$MNI\" \\\n",
    "  -m \"$MP2RAGE\" \\\n",
    "  -o \"$MP2RAGE_TO_MNI\""
   ]
  },
  {
   "cell_type": "markdown",
   "id": "221dbcbb",
   "metadata": {},
   "source": [
    "**Diffusion and MP2RAGE derivatives to MNI 152**"
   ]
  },
  {
   "cell_type": "code",
   "execution_count": null,
   "id": "357ce415",
   "metadata": {},
   "outputs": [],
   "source": [
    "%%bash\n",
    "source env.sh\n",
    "export PATH=$HOME/ants/bin:$PATH\n",
    "\n",
    "# DWI to MNI (via MP2RAGE to MNI Matrice)\n",
    "antsApplyTransforms \\\n",
    "  -d 3 \\\n",
    "  -i \"${DWI_TO_MP2RAGE}Warped.nii.gz\" \\\n",
    "  -r \"$MNI\" \\\n",
    "  -o \"$DWI_MNI\" \\\n",
    "  -n NearestNeighbor \\\n",
    "  -t \"${MP2RAGE_TO_MNI}0GenericAffine.mat\"\n",
    "\n",
    "# DWI Segmentation to MP2RAGE (via DWI to MP2RAGE)\n",
    "antsApplyTransforms \\\n",
    "  -d 3 \\\n",
    "  -i \"$SEG_DWI\" \\\n",
    "  -r \"$MP2RAGE\" \\\n",
    "  -o \"$SEG_DWI_TO_MP2RAGE\" \\\n",
    "  -n NearestNeighbor \\\n",
    "  -t \"${DWI_TO_MP2RAGE}0GenericAffine.mat\"\n",
    "\n",
    "# DWI Segmentation to MNI (via MP2RAGE to MNI)\n",
    "antsApplyTransforms \\\n",
    "  -d 3 \\\n",
    "  -i \"$SEG_DWI_TO_MP2RAGE\" \\\n",
    "  -r \"$MNI\" \\\n",
    "  -o \"$SEG_DWI_TO_MNI\" \\\n",
    "  -n NearestNeighbor \\\n",
    "  -t \"${MP2RAGE_TO_MNI}0GenericAffine.mat\" \n",
    "\n",
    "\n",
    "# MP2RAGE Segmentation to MNI (via MP2RAGE to MNI)\n",
    "antsApplyTransforms \\\n",
    "  -d 3 \\\n",
    "  -i \"$SEG_MP2RAGE\" \\\n",
    "  -r \"$MNI\" \\\n",
    "  -o \"$SEG_MP2RAGE_TO_MNI\" \\\n",
    "  -n NearestNeighbor \\\n",
    "  -t \"${MP2RAGE_TO_MNI}0GenericAffine.mat\"\n",
    "\n",
    "# T1 MAP to MNI (via MP2RAGE to MNI)\n",
    "antsApplyTransforms \\\n",
    "  -d 3 \\\n",
    "  -i \"$T1_MAP\" \\\n",
    "  -r \"$MNI\" \\\n",
    "  -o \"$T1_MAP_TO_MNI\" \\\n",
    "  -n NearestNeighbor \\\n",
    "  -t \"${MP2RAGE_TO_MNI}0GenericAffine.mat\"\n",
    "\n",
    "# DWI FA to MP2RAGE (via DWI to MP2RAGE)\n",
    "antsApplyTransforms \\\n",
    "  -d 3 \\\n",
    "  -i \"$FA_MAP\" \\\n",
    "  -r \"$MP2RAGE\" \\\n",
    "  -o \"$FA_TO_MP2RAGE\" \\\n",
    "  -n NearestNeighbor \\\n",
    "  -t \"${DWI_TO_MP2RAGE}0GenericAffine.mat\"\n",
    "\n",
    "# DWI FA to MNI (via MP2RAGE to MNI)\n",
    "antsApplyTransforms \\\n",
    "  -d 3 \\\n",
    "  -i \"$FA_TO_MP2RAGE\" \\\n",
    "  -r \"$MNI\" \\\n",
    "  -o \"$FA_TO_MNI\" \\\n",
    "  -n NearestNeighbor \\\n",
    "  -t \"${MP2RAGE_TO_MNI}0GenericAffine.mat\" "
   ]
  },
  {
   "cell_type": "markdown",
   "id": "dd0e238f",
   "metadata": {},
   "source": [
    "**ROI creation using MNI 152 standardized coordinates**"
   ]
  },
  {
   "cell_type": "code",
   "execution_count": null,
   "id": "b247ad1b",
   "metadata": {},
   "outputs": [],
   "source": [
    "%%bash\n",
    "source env.sh\n",
    "fslroi \"${MP2RAGE_TO_MNI}Warped.nii.gz\" \"$MP2RAGE_MNI_ROI\" 40 101 140 60 22 25\n",
    "fslroi \"$DWI_MNI\" \"$DWI_MNI_ROI\" 40 101 140 60 22 25"
   ]
  },
  {
   "cell_type": "markdown",
   "id": "026abae8",
   "metadata": {},
   "source": [
    "**Diffusion to MP2RAGE (ROI Rigid Registration)**"
   ]
  },
  {
   "cell_type": "code",
   "execution_count": null,
   "id": "97a659c8",
   "metadata": {},
   "outputs": [],
   "source": [
    "%%bash\n",
    "source env.sh\n",
    "export PATH=$HOME/ants/bin:$PATH\n",
    "\n",
    "# DWI to MP2RAGE (Rigid Registration)\n",
    "antsRegistrationSyN.sh \\\n",
    "  -d 3 -t r \\\n",
    "  -f \"$MP2RAGE_MNI_ROI\" \\\n",
    "  -m \"$DWI_MNI_ROI\" \\\n",
    "  -o \"${WORKDIR}/roi2roi_\""
   ]
  },
  {
   "cell_type": "markdown",
   "id": "e1fd4551",
   "metadata": {},
   "source": [
    "**Diffusion derivatives to MP2RAGE (via ROI)**"
   ]
  },
  {
   "cell_type": "code",
   "execution_count": null,
   "id": "a5f14dba",
   "metadata": {},
   "outputs": [],
   "source": [
    "%%bash\n",
    "source env.sh\n",
    "export PATH=$HOME/ants/bin:$PATH\n",
    "\n",
    "# Corrected DWI to MNI (via ROI DWI to ROI MP2RAGE Matrice)\n",
    "antsApplyTransforms \\\n",
    "  -d 3 \\\n",
    "  -i \"$DWI_MNI\" \\\n",
    "  -r \"${MP2RAGE_TO_MNI}Warped.nii.gz\" \\\n",
    "  -o \"$CORRECTED_DWI\" \\\n",
    "  -n NearestNeighbor \\\n",
    "  -t \"${WORKDIR}/roi2roi_0GenericAffine.mat\"\n",
    "\n",
    "# DWI Segmentation to MP2RAGE (via ROI DWI to ROI MP2RAGE Matrice)\n",
    "antsApplyTransforms \\\n",
    "  -d 3 \\\n",
    "  -i \"$SEG_DWI_TO_MNI\" \\\n",
    "  -r \"${MP2RAGE_TO_MNI}Warped.nii.gz\" \\\n",
    "  -o \"$FINAL_SEG_DWI\" \\\n",
    "  -n NearestNeighbor \\\n",
    "  -t \"${WORKDIR}/roi2roi_0GenericAffine.mat\"\n",
    "\n",
    "# Corrected FA Map to MNI (via ROI DWI to ROI MP2RAGE Matrice)\n",
    "antsApplyTransforms \\\n",
    "  -d 3 \\\n",
    "  -i \"$FA_TO_MNI\" \\\n",
    "  -r \"${MP2RAGE_TO_MNI}Warped.nii.gz\" \\\n",
    "  -o \"$CORRECTED_FA\" \\\n",
    "  -n NearestNeighbor \\\n",
    "  -t \"${WORKDIR}/roi2roi_0GenericAffine.mat\""
   ]
  }
 ],
 "metadata": {
  "language_info": {
   "name": "python"
  }
 },
 "nbformat": 4,
 "nbformat_minor": 5
}
